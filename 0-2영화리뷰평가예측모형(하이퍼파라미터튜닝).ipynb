{
 "cells": [
  {
   "cell_type": "code",
   "execution_count": 2,
   "metadata": {},
   "outputs": [],
   "source": [
    "import pandas as pd"
   ]
  },
  {
   "cell_type": "markdown",
   "metadata": {},
   "source": [
    "## Load Dataset"
   ]
  },
  {
   "cell_type": "code",
   "execution_count": 3,
   "metadata": {},
   "outputs": [
    {
     "name": "stdout",
     "output_type": "stream",
     "text": [
      "(156060, 3)\n"
     ]
    },
    {
     "data": {
      "text/html": [
       "<div>\n",
       "<style scoped>\n",
       "    .dataframe tbody tr th:only-of-type {\n",
       "        vertical-align: middle;\n",
       "    }\n",
       "\n",
       "    .dataframe tbody tr th {\n",
       "        vertical-align: top;\n",
       "    }\n",
       "\n",
       "    .dataframe thead th {\n",
       "        text-align: right;\n",
       "    }\n",
       "</style>\n",
       "<table border=\"1\" class=\"dataframe\">\n",
       "  <thead>\n",
       "    <tr style=\"text-align: right;\">\n",
       "      <th></th>\n",
       "      <th>SentenceId</th>\n",
       "      <th>Phrase</th>\n",
       "      <th>Sentiment</th>\n",
       "    </tr>\n",
       "    <tr>\n",
       "      <th>PhraseId</th>\n",
       "      <th></th>\n",
       "      <th></th>\n",
       "      <th></th>\n",
       "    </tr>\n",
       "  </thead>\n",
       "  <tbody>\n",
       "    <tr>\n",
       "      <th>1</th>\n",
       "      <td>1</td>\n",
       "      <td>A series of escapades demonstrating the adage ...</td>\n",
       "      <td>1</td>\n",
       "    </tr>\n",
       "    <tr>\n",
       "      <th>2</th>\n",
       "      <td>1</td>\n",
       "      <td>A series of escapades demonstrating the adage ...</td>\n",
       "      <td>2</td>\n",
       "    </tr>\n",
       "    <tr>\n",
       "      <th>3</th>\n",
       "      <td>1</td>\n",
       "      <td>A series</td>\n",
       "      <td>2</td>\n",
       "    </tr>\n",
       "    <tr>\n",
       "      <th>4</th>\n",
       "      <td>1</td>\n",
       "      <td>A</td>\n",
       "      <td>2</td>\n",
       "    </tr>\n",
       "    <tr>\n",
       "      <th>5</th>\n",
       "      <td>1</td>\n",
       "      <td>series</td>\n",
       "      <td>2</td>\n",
       "    </tr>\n",
       "  </tbody>\n",
       "</table>\n",
       "</div>"
      ],
      "text/plain": [
       "          SentenceId                                             Phrase  \\\n",
       "PhraseId                                                                  \n",
       "1                  1  A series of escapades demonstrating the adage ...   \n",
       "2                  1  A series of escapades demonstrating the adage ...   \n",
       "3                  1                                           A series   \n",
       "4                  1                                                  A   \n",
       "5                  1                                             series   \n",
       "\n",
       "          Sentiment  \n",
       "PhraseId             \n",
       "1                 1  \n",
       "2                 2  \n",
       "3                 2  \n",
       "4                 2  \n",
       "5                 2  "
      ]
     },
     "execution_count": 3,
     "metadata": {},
     "output_type": "execute_result"
    }
   ],
   "source": [
    "train = pd.read_csv(\"data/movie_train.tsv\", sep=\"\\t\", index_col=\"PhraseId\")\n",
    "\n",
    "print(train.shape)\n",
    "train.head()"
   ]
  },
  {
   "cell_type": "code",
   "execution_count": 4,
   "metadata": {},
   "outputs": [
    {
     "name": "stdout",
     "output_type": "stream",
     "text": [
      "(66292, 2)\n"
     ]
    },
    {
     "data": {
      "text/html": [
       "<div>\n",
       "<style scoped>\n",
       "    .dataframe tbody tr th:only-of-type {\n",
       "        vertical-align: middle;\n",
       "    }\n",
       "\n",
       "    .dataframe tbody tr th {\n",
       "        vertical-align: top;\n",
       "    }\n",
       "\n",
       "    .dataframe thead th {\n",
       "        text-align: right;\n",
       "    }\n",
       "</style>\n",
       "<table border=\"1\" class=\"dataframe\">\n",
       "  <thead>\n",
       "    <tr style=\"text-align: right;\">\n",
       "      <th></th>\n",
       "      <th>SentenceId</th>\n",
       "      <th>Phrase</th>\n",
       "    </tr>\n",
       "    <tr>\n",
       "      <th>PhraseId</th>\n",
       "      <th></th>\n",
       "      <th></th>\n",
       "    </tr>\n",
       "  </thead>\n",
       "  <tbody>\n",
       "    <tr>\n",
       "      <th>156061</th>\n",
       "      <td>8545</td>\n",
       "      <td>An intermittently pleasing but mostly routine ...</td>\n",
       "    </tr>\n",
       "    <tr>\n",
       "      <th>156062</th>\n",
       "      <td>8545</td>\n",
       "      <td>An intermittently pleasing but mostly routine ...</td>\n",
       "    </tr>\n",
       "    <tr>\n",
       "      <th>156063</th>\n",
       "      <td>8545</td>\n",
       "      <td>An</td>\n",
       "    </tr>\n",
       "    <tr>\n",
       "      <th>156064</th>\n",
       "      <td>8545</td>\n",
       "      <td>intermittently pleasing but mostly routine effort</td>\n",
       "    </tr>\n",
       "    <tr>\n",
       "      <th>156065</th>\n",
       "      <td>8545</td>\n",
       "      <td>intermittently pleasing but mostly routine</td>\n",
       "    </tr>\n",
       "  </tbody>\n",
       "</table>\n",
       "</div>"
      ],
      "text/plain": [
       "          SentenceId                                             Phrase\n",
       "PhraseId                                                               \n",
       "156061          8545  An intermittently pleasing but mostly routine ...\n",
       "156062          8545  An intermittently pleasing but mostly routine ...\n",
       "156063          8545                                                 An\n",
       "156064          8545  intermittently pleasing but mostly routine effort\n",
       "156065          8545         intermittently pleasing but mostly routine"
      ]
     },
     "execution_count": 4,
     "metadata": {},
     "output_type": "execute_result"
    }
   ],
   "source": [
    "test = pd.read_csv(\"data/movie_test.tsv\", sep=\"\\t\", index_col=\"PhraseId\")\n",
    "\n",
    "print(test.shape)\n",
    "test.head()"
   ]
  },
  {
   "cell_type": "markdown",
   "metadata": {},
   "source": [
    "## Preprocessing"
   ]
  },
  {
   "cell_type": "code",
   "execution_count": 5,
   "metadata": {},
   "outputs": [
    {
     "name": "stdout",
     "output_type": "stream",
     "text": [
      "(156060, 4)\n"
     ]
    },
    {
     "data": {
      "text/html": [
       "<div>\n",
       "<style>\n",
       "    .dataframe thead tr:only-child th {\n",
       "        text-align: right;\n",
       "    }\n",
       "\n",
       "    .dataframe thead th {\n",
       "        text-align: left;\n",
       "    }\n",
       "\n",
       "    .dataframe tbody tr th {\n",
       "        vertical-align: top;\n",
       "    }\n",
       "</style>\n",
       "<table border=\"1\" class=\"dataframe\">\n",
       "  <thead>\n",
       "    <tr style=\"text-align: right;\">\n",
       "      <th></th>\n",
       "      <th>Phrase</th>\n",
       "      <th>Phrase(Origin)</th>\n",
       "    </tr>\n",
       "    <tr>\n",
       "      <th>PhraseId</th>\n",
       "      <th></th>\n",
       "      <th></th>\n",
       "    </tr>\n",
       "  </thead>\n",
       "  <tbody>\n",
       "    <tr>\n",
       "      <th>1</th>\n",
       "      <td>A series of escapades demonstrating the adage ...</td>\n",
       "      <td>A series of escapades demonstrating the adage ...</td>\n",
       "    </tr>\n",
       "    <tr>\n",
       "      <th>2</th>\n",
       "      <td>A series of escapades demonstrating the adage ...</td>\n",
       "      <td>A series of escapades demonstrating the adage ...</td>\n",
       "    </tr>\n",
       "    <tr>\n",
       "      <th>3</th>\n",
       "      <td>A series</td>\n",
       "      <td>A series</td>\n",
       "    </tr>\n",
       "    <tr>\n",
       "      <th>4</th>\n",
       "      <td>A</td>\n",
       "      <td>A</td>\n",
       "    </tr>\n",
       "    <tr>\n",
       "      <th>5</th>\n",
       "      <td>series</td>\n",
       "      <td>series</td>\n",
       "    </tr>\n",
       "  </tbody>\n",
       "</table>\n",
       "</div>"
      ],
      "text/plain": [
       "                                                     Phrase  \\\n",
       "PhraseId                                                      \n",
       "1         A series of escapades demonstrating the adage ...   \n",
       "2         A series of escapades demonstrating the adage ...   \n",
       "3                                                  A series   \n",
       "4                                                         A   \n",
       "5                                                    series   \n",
       "\n",
       "                                             Phrase(Origin)  \n",
       "PhraseId                                                     \n",
       "1         A series of escapades demonstrating the adage ...  \n",
       "2         A series of escapades demonstrating the adage ...  \n",
       "3                                                  A series  \n",
       "4                                                         A  \n",
       "5                                                    series  "
      ]
     },
     "execution_count": 5,
     "metadata": {},
     "output_type": "execute_result"
    }
   ],
   "source": [
    "train[\"Phrase(Origin)\"] = train[\"Phrase\"]\n",
    "\n",
    "print(train.shape)\n",
    "train[[\"Phrase\", \"Phrase(Origin)\"]].head()"
   ]
  },
  {
   "cell_type": "code",
   "execution_count": 6,
   "metadata": {},
   "outputs": [
    {
     "name": "stdout",
     "output_type": "stream",
     "text": [
      "(66292, 3)\n"
     ]
    },
    {
     "data": {
      "text/html": [
       "<div>\n",
       "<style>\n",
       "    .dataframe thead tr:only-child th {\n",
       "        text-align: right;\n",
       "    }\n",
       "\n",
       "    .dataframe thead th {\n",
       "        text-align: left;\n",
       "    }\n",
       "\n",
       "    .dataframe tbody tr th {\n",
       "        vertical-align: top;\n",
       "    }\n",
       "</style>\n",
       "<table border=\"1\" class=\"dataframe\">\n",
       "  <thead>\n",
       "    <tr style=\"text-align: right;\">\n",
       "      <th></th>\n",
       "      <th>Phrase</th>\n",
       "      <th>Phrase(Origin)</th>\n",
       "    </tr>\n",
       "    <tr>\n",
       "      <th>PhraseId</th>\n",
       "      <th></th>\n",
       "      <th></th>\n",
       "    </tr>\n",
       "  </thead>\n",
       "  <tbody>\n",
       "    <tr>\n",
       "      <th>156061</th>\n",
       "      <td>An intermittently pleasing but mostly routine ...</td>\n",
       "      <td>An intermittently pleasing but mostly routine ...</td>\n",
       "    </tr>\n",
       "    <tr>\n",
       "      <th>156062</th>\n",
       "      <td>An intermittently pleasing but mostly routine ...</td>\n",
       "      <td>An intermittently pleasing but mostly routine ...</td>\n",
       "    </tr>\n",
       "    <tr>\n",
       "      <th>156063</th>\n",
       "      <td>An</td>\n",
       "      <td>An</td>\n",
       "    </tr>\n",
       "    <tr>\n",
       "      <th>156064</th>\n",
       "      <td>intermittently pleasing but mostly routine effort</td>\n",
       "      <td>intermittently pleasing but mostly routine effort</td>\n",
       "    </tr>\n",
       "    <tr>\n",
       "      <th>156065</th>\n",
       "      <td>intermittently pleasing but mostly routine</td>\n",
       "      <td>intermittently pleasing but mostly routine</td>\n",
       "    </tr>\n",
       "  </tbody>\n",
       "</table>\n",
       "</div>"
      ],
      "text/plain": [
       "                                                     Phrase  \\\n",
       "PhraseId                                                      \n",
       "156061    An intermittently pleasing but mostly routine ...   \n",
       "156062    An intermittently pleasing but mostly routine ...   \n",
       "156063                                                   An   \n",
       "156064    intermittently pleasing but mostly routine effort   \n",
       "156065           intermittently pleasing but mostly routine   \n",
       "\n",
       "                                             Phrase(Origin)  \n",
       "PhraseId                                                     \n",
       "156061    An intermittently pleasing but mostly routine ...  \n",
       "156062    An intermittently pleasing but mostly routine ...  \n",
       "156063                                                   An  \n",
       "156064    intermittently pleasing but mostly routine effort  \n",
       "156065           intermittently pleasing but mostly routine  "
      ]
     },
     "execution_count": 6,
     "metadata": {},
     "output_type": "execute_result"
    }
   ],
   "source": [
    "test[\"Phrase(Origin)\"] = test[\"Phrase\"]\n",
    "\n",
    "print(test.shape)\n",
    "test[[\"Phrase\", \"Phrase(Origin)\"]].head()"
   ]
  },
  {
   "cell_type": "markdown",
   "metadata": {},
   "source": [
    "### Stem Text"
   ]
  },
  {
   "cell_type": "code",
   "execution_count": 7,
   "metadata": {},
   "outputs": [
    {
     "name": "stderr",
     "output_type": "stream",
     "text": [
      "stemming(train)...: 100%|██████████| 156060/156060 [02:36<00:00, 995.94it/s] \n"
     ]
    },
    {
     "name": "stdout",
     "output_type": "stream",
     "text": [
      "(156060, 4)\n"
     ]
    },
    {
     "data": {
      "text/html": [
       "<div>\n",
       "<style>\n",
       "    .dataframe thead tr:only-child th {\n",
       "        text-align: right;\n",
       "    }\n",
       "\n",
       "    .dataframe thead th {\n",
       "        text-align: left;\n",
       "    }\n",
       "\n",
       "    .dataframe tbody tr th {\n",
       "        vertical-align: top;\n",
       "    }\n",
       "</style>\n",
       "<table border=\"1\" class=\"dataframe\">\n",
       "  <thead>\n",
       "    <tr style=\"text-align: right;\">\n",
       "      <th></th>\n",
       "      <th>Phrase</th>\n",
       "      <th>Phrase(Origin)</th>\n",
       "    </tr>\n",
       "    <tr>\n",
       "      <th>PhraseId</th>\n",
       "      <th></th>\n",
       "      <th></th>\n",
       "    </tr>\n",
       "  </thead>\n",
       "  <tbody>\n",
       "    <tr>\n",
       "      <th>1</th>\n",
       "      <td>a seri of escapad demonstr the adag that what ...</td>\n",
       "      <td>A series of escapades demonstrating the adage ...</td>\n",
       "    </tr>\n",
       "    <tr>\n",
       "      <th>2</th>\n",
       "      <td>a seri of escapad demonstr the adag that what ...</td>\n",
       "      <td>A series of escapades demonstrating the adage ...</td>\n",
       "    </tr>\n",
       "    <tr>\n",
       "      <th>3</th>\n",
       "      <td>a seri</td>\n",
       "      <td>A series</td>\n",
       "    </tr>\n",
       "    <tr>\n",
       "      <th>4</th>\n",
       "      <td>a</td>\n",
       "      <td>A</td>\n",
       "    </tr>\n",
       "    <tr>\n",
       "      <th>5</th>\n",
       "      <td>seri</td>\n",
       "      <td>series</td>\n",
       "    </tr>\n",
       "  </tbody>\n",
       "</table>\n",
       "</div>"
      ],
      "text/plain": [
       "                                                     Phrase  \\\n",
       "PhraseId                                                      \n",
       "1         a seri of escapad demonstr the adag that what ...   \n",
       "2         a seri of escapad demonstr the adag that what ...   \n",
       "3                                                    a seri   \n",
       "4                                                         a   \n",
       "5                                                      seri   \n",
       "\n",
       "                                             Phrase(Origin)  \n",
       "PhraseId                                                     \n",
       "1         A series of escapades demonstrating the adage ...  \n",
       "2         A series of escapades demonstrating the adage ...  \n",
       "3                                                  A series  \n",
       "4                                                         A  \n",
       "5                                                    series  "
      ]
     },
     "execution_count": 7,
     "metadata": {},
     "output_type": "execute_result"
    }
   ],
   "source": [
    "from nltk.stem.snowball import SnowballStemmer\n",
    "from tqdm import tqdm\n",
    "\n",
    "stemmer = SnowballStemmer(\"english\")\n",
    "\n",
    "def stem_text(phrase):\n",
    "    words = phrase.split(\" \")\n",
    "    \n",
    "    stem_words = []\n",
    "    \n",
    "    for word in words:\n",
    "        stem_word = stemmer.stem(word)\n",
    "        stem_words.append(stem_word)\n",
    "    \n",
    "    stem_text = \" \".join(stem_words)\n",
    "\n",
    "    return stem_text\n",
    "\n",
    "tqdm.pandas(desc=\"stemming(train)...\")\n",
    "\n",
    "train[\"Phrase\"] = train[\"Phrase\"].progress_apply(stem_text)\n",
    "\n",
    "print(train.shape)\n",
    "train[[\"Phrase\", \"Phrase(Origin)\"]].head()"
   ]
  },
  {
   "cell_type": "code",
   "execution_count": 8,
   "metadata": {},
   "outputs": [
    {
     "name": "stderr",
     "output_type": "stream",
     "text": [
      "stemming(test)...: 100%|██████████| 66292/66292 [00:54<00:00, 1220.87it/s]\n"
     ]
    },
    {
     "name": "stdout",
     "output_type": "stream",
     "text": [
      "(66292, 3)\n"
     ]
    },
    {
     "data": {
      "text/html": [
       "<div>\n",
       "<style>\n",
       "    .dataframe thead tr:only-child th {\n",
       "        text-align: right;\n",
       "    }\n",
       "\n",
       "    .dataframe thead th {\n",
       "        text-align: left;\n",
       "    }\n",
       "\n",
       "    .dataframe tbody tr th {\n",
       "        vertical-align: top;\n",
       "    }\n",
       "</style>\n",
       "<table border=\"1\" class=\"dataframe\">\n",
       "  <thead>\n",
       "    <tr style=\"text-align: right;\">\n",
       "      <th></th>\n",
       "      <th>Phrase</th>\n",
       "      <th>Phrase(Origin)</th>\n",
       "    </tr>\n",
       "    <tr>\n",
       "      <th>PhraseId</th>\n",
       "      <th></th>\n",
       "      <th></th>\n",
       "    </tr>\n",
       "  </thead>\n",
       "  <tbody>\n",
       "    <tr>\n",
       "      <th>156061</th>\n",
       "      <td>an intermitt pleas but most routin effort .</td>\n",
       "      <td>An intermittently pleasing but mostly routine ...</td>\n",
       "    </tr>\n",
       "    <tr>\n",
       "      <th>156062</th>\n",
       "      <td>an intermitt pleas but most routin effort</td>\n",
       "      <td>An intermittently pleasing but mostly routine ...</td>\n",
       "    </tr>\n",
       "    <tr>\n",
       "      <th>156063</th>\n",
       "      <td>an</td>\n",
       "      <td>An</td>\n",
       "    </tr>\n",
       "    <tr>\n",
       "      <th>156064</th>\n",
       "      <td>intermitt pleas but most routin effort</td>\n",
       "      <td>intermittently pleasing but mostly routine effort</td>\n",
       "    </tr>\n",
       "    <tr>\n",
       "      <th>156065</th>\n",
       "      <td>intermitt pleas but most routin</td>\n",
       "      <td>intermittently pleasing but mostly routine</td>\n",
       "    </tr>\n",
       "  </tbody>\n",
       "</table>\n",
       "</div>"
      ],
      "text/plain": [
       "                                               Phrase  \\\n",
       "PhraseId                                                \n",
       "156061    an intermitt pleas but most routin effort .   \n",
       "156062      an intermitt pleas but most routin effort   \n",
       "156063                                             an   \n",
       "156064         intermitt pleas but most routin effort   \n",
       "156065                intermitt pleas but most routin   \n",
       "\n",
       "                                             Phrase(Origin)  \n",
       "PhraseId                                                     \n",
       "156061    An intermittently pleasing but mostly routine ...  \n",
       "156062    An intermittently pleasing but mostly routine ...  \n",
       "156063                                                   An  \n",
       "156064    intermittently pleasing but mostly routine effort  \n",
       "156065           intermittently pleasing but mostly routine  "
      ]
     },
     "execution_count": 8,
     "metadata": {},
     "output_type": "execute_result"
    }
   ],
   "source": [
    "tqdm.pandas(desc=\"stemming(test)...\")\n",
    "\n",
    "test[\"Phrase\"] = test[\"Phrase\"].progress_apply(stem_text)\n",
    "\n",
    "print(test.shape)\n",
    "test[[\"Phrase\", \"Phrase(Origin)\"]].head()"
   ]
  },
  {
   "cell_type": "markdown",
   "metadata": {},
   "source": [
    "### Clean Text"
   ]
  },
  {
   "cell_type": "code",
   "execution_count": 9,
   "metadata": {},
   "outputs": [
    {
     "name": "stdout",
     "output_type": "stream",
     "text": [
      "(156060, 4)\n"
     ]
    },
    {
     "data": {
      "text/html": [
       "<div>\n",
       "<style>\n",
       "    .dataframe thead tr:only-child th {\n",
       "        text-align: right;\n",
       "    }\n",
       "\n",
       "    .dataframe thead th {\n",
       "        text-align: left;\n",
       "    }\n",
       "\n",
       "    .dataframe tbody tr th {\n",
       "        vertical-align: top;\n",
       "    }\n",
       "</style>\n",
       "<table border=\"1\" class=\"dataframe\">\n",
       "  <thead>\n",
       "    <tr style=\"text-align: right;\">\n",
       "      <th></th>\n",
       "      <th>Phrase</th>\n",
       "      <th>Phrase(Origin)</th>\n",
       "    </tr>\n",
       "    <tr>\n",
       "      <th>PhraseId</th>\n",
       "      <th></th>\n",
       "      <th></th>\n",
       "    </tr>\n",
       "  </thead>\n",
       "  <tbody>\n",
       "    <tr>\n",
       "      <th>1</th>\n",
       "      <td>a seri of escapad demonstr the adag that what ...</td>\n",
       "      <td>A series of escapades demonstrating the adage ...</td>\n",
       "    </tr>\n",
       "    <tr>\n",
       "      <th>2</th>\n",
       "      <td>a seri of escapad demonstr the adag that what ...</td>\n",
       "      <td>A series of escapades demonstrating the adage ...</td>\n",
       "    </tr>\n",
       "    <tr>\n",
       "      <th>3</th>\n",
       "      <td>a seri</td>\n",
       "      <td>A series</td>\n",
       "    </tr>\n",
       "    <tr>\n",
       "      <th>4</th>\n",
       "      <td>a</td>\n",
       "      <td>A</td>\n",
       "    </tr>\n",
       "    <tr>\n",
       "      <th>5</th>\n",
       "      <td>seri</td>\n",
       "      <td>series</td>\n",
       "    </tr>\n",
       "  </tbody>\n",
       "</table>\n",
       "</div>"
      ],
      "text/plain": [
       "                                                     Phrase  \\\n",
       "PhraseId                                                      \n",
       "1         a seri of escapad demonstr the adag that what ...   \n",
       "2         a seri of escapad demonstr the adag that what ...   \n",
       "3                                                    a seri   \n",
       "4                                                         a   \n",
       "5                                                      seri   \n",
       "\n",
       "                                             Phrase(Origin)  \n",
       "PhraseId                                                     \n",
       "1         A series of escapades demonstrating the adage ...  \n",
       "2         A series of escapades demonstrating the adage ...  \n",
       "3                                                  A series  \n",
       "4                                                         A  \n",
       "5                                                    series  "
      ]
     },
     "execution_count": 9,
     "metadata": {},
     "output_type": "execute_result"
    }
   ],
   "source": [
    "def clean_text(phrase):\n",
    "    phrase = phrase.replace(\"n't\", \"not\")\n",
    "\n",
    "    return phrase\n",
    "\n",
    "train[\"Phrase\"] = train[\"Phrase\"].apply(clean_text)\n",
    "\n",
    "print(train.shape)\n",
    "train[[\"Phrase\", \"Phrase(Origin)\"]].head()"
   ]
  },
  {
   "cell_type": "code",
   "execution_count": 10,
   "metadata": {},
   "outputs": [
    {
     "name": "stdout",
     "output_type": "stream",
     "text": [
      "(66292, 3)\n"
     ]
    },
    {
     "data": {
      "text/html": [
       "<div>\n",
       "<style>\n",
       "    .dataframe thead tr:only-child th {\n",
       "        text-align: right;\n",
       "    }\n",
       "\n",
       "    .dataframe thead th {\n",
       "        text-align: left;\n",
       "    }\n",
       "\n",
       "    .dataframe tbody tr th {\n",
       "        vertical-align: top;\n",
       "    }\n",
       "</style>\n",
       "<table border=\"1\" class=\"dataframe\">\n",
       "  <thead>\n",
       "    <tr style=\"text-align: right;\">\n",
       "      <th></th>\n",
       "      <th>Phrase</th>\n",
       "      <th>Phrase(Origin)</th>\n",
       "    </tr>\n",
       "    <tr>\n",
       "      <th>PhraseId</th>\n",
       "      <th></th>\n",
       "      <th></th>\n",
       "    </tr>\n",
       "  </thead>\n",
       "  <tbody>\n",
       "    <tr>\n",
       "      <th>156061</th>\n",
       "      <td>an intermitt pleas but most routin effort .</td>\n",
       "      <td>An intermittently pleasing but mostly routine ...</td>\n",
       "    </tr>\n",
       "    <tr>\n",
       "      <th>156062</th>\n",
       "      <td>an intermitt pleas but most routin effort</td>\n",
       "      <td>An intermittently pleasing but mostly routine ...</td>\n",
       "    </tr>\n",
       "    <tr>\n",
       "      <th>156063</th>\n",
       "      <td>an</td>\n",
       "      <td>An</td>\n",
       "    </tr>\n",
       "    <tr>\n",
       "      <th>156064</th>\n",
       "      <td>intermitt pleas but most routin effort</td>\n",
       "      <td>intermittently pleasing but mostly routine effort</td>\n",
       "    </tr>\n",
       "    <tr>\n",
       "      <th>156065</th>\n",
       "      <td>intermitt pleas but most routin</td>\n",
       "      <td>intermittently pleasing but mostly routine</td>\n",
       "    </tr>\n",
       "  </tbody>\n",
       "</table>\n",
       "</div>"
      ],
      "text/plain": [
       "                                               Phrase  \\\n",
       "PhraseId                                                \n",
       "156061    an intermitt pleas but most routin effort .   \n",
       "156062      an intermitt pleas but most routin effort   \n",
       "156063                                             an   \n",
       "156064         intermitt pleas but most routin effort   \n",
       "156065                intermitt pleas but most routin   \n",
       "\n",
       "                                             Phrase(Origin)  \n",
       "PhraseId                                                     \n",
       "156061    An intermittently pleasing but mostly routine ...  \n",
       "156062    An intermittently pleasing but mostly routine ...  \n",
       "156063                                                   An  \n",
       "156064    intermittently pleasing but mostly routine effort  \n",
       "156065           intermittently pleasing but mostly routine  "
      ]
     },
     "execution_count": 10,
     "metadata": {},
     "output_type": "execute_result"
    }
   ],
   "source": [
    "test[\"Phrase\"] = test[\"Phrase\"].apply(clean_text)\n",
    "\n",
    "print(test.shape)\n",
    "test[[\"Phrase\", \"Phrase(Origin)\"]].head()"
   ]
  },
  {
   "cell_type": "markdown",
   "metadata": {},
   "source": [
    "### One hot encode Phrase"
   ]
  },
  {
   "cell_type": "code",
   "execution_count": 11,
   "metadata": {},
   "outputs": [
    {
     "data": {
      "text/plain": [
       "TfidfVectorizer(analyzer='char', binary=False, decode_error='strict',\n",
       "        dtype=<class 'numpy.int64'>, encoding='utf-8', input='content',\n",
       "        lowercase=True, max_df=1.0, max_features=1000, min_df=1,\n",
       "        ngram_range=(1, 9), norm='l2', preprocessor=None, smooth_idf=True,\n",
       "        stop_words=None, strip_accents=None, sublinear_tf=False,\n",
       "        token_pattern='(?u)\\\\b\\\\w\\\\w+\\\\b', tokenizer=None, use_idf=True,\n",
       "        vocabulary=None)"
      ]
     },
     "execution_count": 11,
     "metadata": {},
     "output_type": "execute_result"
    }
   ],
   "source": [
    "#토큰 하나의 횟수만 고려하지 않고 옆에 있는 두세개의 토큰을 함께 고려하는 방식\n",
    "#토큰 두개를 바이그램, 세개를 트라이그램, 연속된토큰을 n-gram\n",
    "from sklearn.feature_extraction.text import TfidfVectorizer\n",
    "#10000\n",
    "char_vectorizer = TfidfVectorizer(analyzer='char',\n",
    "                                  max_features=1000,\n",
    "                                  ngram_range=(1, 9))\n",
    "\n",
    "char_vectorizer.fit(train[\"Phrase\"])"
   ]
  },
  {
   "cell_type": "code",
   "execution_count": 13,
   "metadata": {},
   "outputs": [
    {
     "data": {
      "text/plain": [
       "TfidfVectorizer(analyzer='word', binary=False, decode_error='strict',\n",
       "        dtype=<class 'numpy.int64'>, encoding='utf-8', input='content',\n",
       "        lowercase=True, max_df=1.0, max_features=30000, min_df=1,\n",
       "        ngram_range=(1, 2), norm='l2', preprocessor=None, smooth_idf=True,\n",
       "        stop_words=None, strip_accents=None, sublinear_tf=False,\n",
       "        token_pattern='(?u)\\\\b\\\\w\\\\w+\\\\b', tokenizer=None, use_idf=True,\n",
       "        vocabulary=None)"
      ]
     },
     "execution_count": 13,
     "metadata": {},
     "output_type": "execute_result"
    }
   ],
   "source": [
    "from sklearn.feature_extraction.text import TfidfVectorizer\n",
    "\n",
    "word_vectorizer = TfidfVectorizer(analyzer='word',\n",
    "                                  max_features=30000,\n",
    "                                  ngram_range=(1, 2))\n",
    "\n",
    "word_vectorizer.fit(train[\"Phrase\"])"
   ]
  },
  {
   "cell_type": "code",
   "execution_count": 14,
   "metadata": {},
   "outputs": [
    {
     "name": "stdout",
     "output_type": "stream",
     "text": [
      "(156059, 10000)\n"
     ]
    },
    {
     "data": {
      "text/plain": [
       "<156059x10000 sparse matrix of type '<class 'numpy.float64'>'\n",
       "\twith 18143071 stored elements in Compressed Sparse Row format>"
      ]
     },
     "execution_count": 14,
     "metadata": {},
     "output_type": "execute_result"
    }
   ],
   "source": [
    "X_train_char = char_vectorizer.transform(train[\"Phrase\"])\n",
    "\n",
    "print(X_train_char.shape)\n",
    "X_train_char"
   ]
  },
  {
   "cell_type": "code",
   "execution_count": 15,
   "metadata": {},
   "outputs": [
    {
     "name": "stdout",
     "output_type": "stream",
     "text": [
      "(156059, 30000)\n"
     ]
    },
    {
     "data": {
      "text/plain": [
       "<156059x30000 sparse matrix of type '<class 'numpy.float64'>'\n",
       "\twith 1508136 stored elements in Compressed Sparse Row format>"
      ]
     },
     "execution_count": 15,
     "metadata": {},
     "output_type": "execute_result"
    }
   ],
   "source": [
    "X_train_word = word_vectorizer.transform(train[\"Phrase\"])\n",
    "\n",
    "print(X_train_word.shape)\n",
    "X_train_word"
   ]
  },
  {
   "cell_type": "code",
   "execution_count": 86,
   "metadata": {},
   "outputs": [
    {
     "name": "stdout",
     "output_type": "stream",
     "text": [
      "(156059, 40000)\n"
     ]
    },
    {
     "data": {
      "text/plain": [
       "<156059x40000 sparse matrix of type '<class 'numpy.float64'>'\n",
       "\twith 19651207 stored elements in COOrdinate format>"
      ]
     },
     "execution_count": 86,
     "metadata": {},
     "output_type": "execute_result"
    }
   ],
   "source": [
    "from scipy.sparse import hstack\n",
    "\n",
    "X_train = hstack([X_train_char, X_train_word])\n",
    "\n",
    "print(X_train.shape)\n",
    "X_train"
   ]
  },
  {
   "cell_type": "code",
   "execution_count": 17,
   "metadata": {},
   "outputs": [
    {
     "name": "stdout",
     "output_type": "stream",
     "text": [
      "(66292, 10000)\n"
     ]
    },
    {
     "data": {
      "text/plain": [
       "<66292x10000 sparse matrix of type '<class 'numpy.float64'>'\n",
       "\twith 7119629 stored elements in Compressed Sparse Row format>"
      ]
     },
     "execution_count": 17,
     "metadata": {},
     "output_type": "execute_result"
    }
   ],
   "source": [
    "X_test_char = char_vectorizer.transform(test[\"Phrase\"])\n",
    "\n",
    "print(X_test_char.shape)\n",
    "X_test_char"
   ]
  },
  {
   "cell_type": "code",
   "execution_count": 18,
   "metadata": {},
   "outputs": [
    {
     "name": "stdout",
     "output_type": "stream",
     "text": [
      "(66292, 30000)\n"
     ]
    },
    {
     "data": {
      "text/plain": [
       "<66292x30000 sparse matrix of type '<class 'numpy.float64'>'\n",
       "\twith 499394 stored elements in Compressed Sparse Row format>"
      ]
     },
     "execution_count": 18,
     "metadata": {},
     "output_type": "execute_result"
    }
   ],
   "source": [
    "X_test_word = word_vectorizer.transform(test[\"Phrase\"])\n",
    "\n",
    "print(X_test_word.shape)\n",
    "X_test_word"
   ]
  },
  {
   "cell_type": "code",
   "execution_count": 19,
   "metadata": {},
   "outputs": [
    {
     "name": "stdout",
     "output_type": "stream",
     "text": [
      "(66292, 40000)\n"
     ]
    },
    {
     "data": {
      "text/plain": [
       "<66292x40000 sparse matrix of type '<class 'numpy.float64'>'\n",
       "\twith 7619023 stored elements in COOrdinate format>"
      ]
     },
     "execution_count": 19,
     "metadata": {},
     "output_type": "execute_result"
    }
   ],
   "source": [
    "from scipy.sparse import hstack\n",
    "\n",
    "X_test = hstack([X_test_char, X_test_word])\n",
    "\n",
    "print(X_test.shape)\n",
    "X_test"
   ]
  },
  {
   "cell_type": "code",
   "execution_count": 85,
   "metadata": {},
   "outputs": [
    {
     "name": "stdout",
     "output_type": "stream",
     "text": [
      "(156059,)\n"
     ]
    },
    {
     "data": {
      "text/plain": [
       "PhraseId\n",
       "1    1\n",
       "2    2\n",
       "3    2\n",
       "4    2\n",
       "5    2\n",
       "Name: Sentiment, dtype: int64"
      ]
     },
     "execution_count": 85,
     "metadata": {},
     "output_type": "execute_result"
    }
   ],
   "source": [
    "y_train = train[\"Sentiment\"]\n",
    "\n",
    "print(y_train.shape)\n",
    "y_train.head()"
   ]
  },
  {
   "cell_type": "markdown",
   "metadata": {},
   "source": [
    "## Score"
   ]
  },
  {
   "cell_type": "code",
   "execution_count": 87,
   "metadata": {
    "collapsed": true
   },
   "outputs": [],
   "source": [
    "import scipy\n",
    "\n",
    "chunk = np.array([1] * X_train.shape[1])\n",
    "\n",
    "X_train = scipy.sparse.vstack([X_train, chunk])\n",
    "y_train = np.concatenate([y_train, [1]])"
   ]
  },
  {
   "cell_type": "code",
   "execution_count": 88,
   "metadata": {},
   "outputs": [
    {
     "name": "stdout",
     "output_type": "stream",
     "text": [
      "(156060,)\n"
     ]
    },
    {
     "data": {
      "text/plain": [
       "1    1\n",
       "2    1\n",
       "3    1\n",
       "4    1\n",
       "5    1\n",
       "dtype: int64"
      ]
     },
     "execution_count": 88,
     "metadata": {},
     "output_type": "execute_result"
    }
   ],
   "source": [
    "sentence_ids = train[\"SentenceId\"].copy().append(pd.Series([8544]))\n",
    "\n",
    "print(sentence_ids.shape)\n",
    "sentence_ids.head()"
   ]
  },
  {
   "cell_type": "markdown",
   "metadata": {},
   "source": [
    "### Tune Hyperparameters"
   ]
  },
  {
   "cell_type": "code",
   "execution_count": 93,
   "metadata": {},
   "outputs": [
    {
     "name": "stdout",
     "output_type": "stream",
     "text": [
      "  0 lambda = 0.0000461131, alpha = 0.0004365671, lambda_bias = 0.0000310471 Round =   0, Score = 0.04532\n",
      "  1 lambda = 0.0036127881, alpha = 0.2873237832, lambda_bias = 0.0000001671 Round =   9, Score = 0.59316\n",
      "  2 lambda = 0.0407568821, alpha = 0.0822990129, lambda_bias = 0.0000671462 Round =  13, Score = 0.58131\n",
      "  3 lambda = 0.0005147181, alpha = 0.0000000258, lambda_bias = 0.0327264370 Round =   0, Score = 0.04532\n",
      "  4 lambda = 0.0009831301, alpha = 0.0017972099, lambda_bias = 0.7070568533 Round =   0, Score = 0.04532\n",
      "  5 lambda = 0.0000003928, alpha = 0.0000000587, lambda_bias = 0.0000000341 Round =   0, Score = 0.04532\n",
      "  6 lambda = 0.0000000254, alpha = 4.5967712855, lambda_bias = 0.0000288795 Round =  92, Score = 0.59143\n",
      "  7 lambda = 0.0032764067, alpha = 0.8562842924, lambda_bias = 0.0000037420 Round =  97, Score = 0.60400\n",
      "  8 lambda = 0.0001434323, alpha = 0.0176906301, lambda_bias = 0.0268890667 Round =   0, Score = 0.04532\n",
      "  9 lambda = 0.0024658760, alpha = 0.0000000138, lambda_bias = 0.0000086389 Round =   0, Score = 0.04532\n",
      " 10 lambda = 0.0000073928, alpha = 0.0000105483, lambda_bias = 0.0004774061 Round =   0, Score = 0.04532\n",
      " 11 lambda = 0.0000012666, alpha = 0.0017759417, lambda_bias = 0.0000000302 Round =   0, Score = 0.04532\n",
      " 12 lambda = 0.0128633290, alpha = 0.2692040697, lambda_bias = 0.0000010847 Round =  16, Score = 0.57352\n",
      " 13 lambda = 0.0000006292, alpha = 0.0000001552, lambda_bias = 0.0006381369 Round =   0, Score = 0.04532\n",
      " 14 lambda = 0.0000000046, alpha = 0.0000000095, lambda_bias = 0.0000004192 Round =   0, Score = 0.04532\n",
      " 15 lambda = 0.0000000694, alpha = 0.0000000033, lambda_bias = 0.3334275420 Round =   0, Score = 0.04532\n",
      " 16 lambda = 0.0000000030, alpha = 0.0061659383, lambda_bias = 0.0000012893 Round =   0, Score = 0.04532\n",
      " 17 lambda = 0.0000005471, alpha = 0.3206133157, lambda_bias = 1.1679525642 Round =   4, Score = 0.57477\n",
      " 18 lambda = 0.0000064241, alpha = 0.0000000172, lambda_bias = 0.0000000584 Round =   0, Score = 0.04532\n",
      " 19 lambda = 0.0000046465, alpha = 0.0000002673, lambda_bias = 0.0009552415 Round =   0, Score = 0.04532\n",
      " 20 lambda = 0.0122677017, alpha = 0.0572714528, lambda_bias = 0.0000000332 Round =   6, Score = 0.56237\n",
      " 21 lambda = 0.0000000561, alpha = 0.0468795743, lambda_bias = 0.0654236283 Round =   0, Score = 0.04532\n",
      " 22 lambda = 0.0000042407, alpha = 0.0000549181, lambda_bias = 0.0000000702 Round =   0, Score = 0.04532\n",
      " 23 lambda = 0.0000000560, alpha = 0.0053584198, lambda_bias = 0.3201169469 Round =   0, Score = 0.04532\n",
      " 24 lambda = 0.0000012034, alpha = 0.0000014228, lambda_bias = 0.0838776604 Round =   0, Score = 0.04532\n",
      " 25 lambda = 0.0000007927, alpha = 8.8280889408, lambda_bias = 0.0239552820 Round =  45, Score = 0.57248\n",
      " 26 lambda = 0.0000000391, alpha = 0.0011980377, lambda_bias = 0.0000184996 Round =   0, Score = 0.04532\n",
      " 27 lambda = 0.0000007743, alpha = 0.0333268792, lambda_bias = 1.8737614781 Round =   0, Score = 0.04532\n",
      " 28 lambda = 0.0000231464, alpha = 0.0020688887, lambda_bias = 0.0000106133 Round =   0, Score = 0.04532\n",
      " 29 lambda = 0.0163472112, alpha = 0.0306934917, lambda_bias = 0.0000000696 Round =   6, Score = 0.52051\n",
      " 30 lambda = 0.0002003365, alpha = 0.0000043370, lambda_bias = 0.0000003151 Round =   0, Score = 0.04532\n",
      " 31 lambda = 0.0000231039, alpha = 0.0680348148, lambda_bias = 0.2211076441 Round =   3, Score = 0.52887\n",
      " 32 lambda = 0.0000000082, alpha = 0.0007486107, lambda_bias = 0.0000000018 Round =   0, Score = 0.04532\n",
      " 33 lambda = 0.0000000027, alpha = 0.0000000066, lambda_bias = 0.0000369053 Round =   0, Score = 0.04532\n",
      " 34 lambda = 0.0007562489, alpha = 2.2369487363, lambda_bias = 1.7759866541 Round =  85, Score = 0.60735\n",
      " 35 lambda = 0.0812594422, alpha = 0.0000000186, lambda_bias = 0.0004347101 Round =   6, Score = 0.57661\n",
      " 36 lambda = 0.0131343541, alpha = 6.9261079220, lambda_bias = 0.8829282755 Round =  67, Score = 0.58036\n",
      " 37 lambda = 0.0000004305, alpha = 0.0502878599, lambda_bias = 0.0000011394 Round =   0, Score = 0.04532\n",
      " 38 lambda = 0.0000020777, alpha = 0.0000002885, lambda_bias = 0.0003988771 Round =   0, Score = 0.04532\n",
      " 39 lambda = 0.0340055453, alpha = 0.0022368962, lambda_bias = 0.1013313517 Round =  11, Score = 0.56439\n",
      " 40 lambda = 0.0000001467, alpha = 3.1004421062, lambda_bias = 0.1500597924 Round =  91, Score = 0.60101\n",
      " 41 lambda = 0.0000000173, alpha = 0.0000000036, lambda_bias = 0.0000027049 Round =   0, Score = 0.04532\n",
      " 42 lambda = 0.0000003449, alpha = 0.0336839049, lambda_bias = 0.0042521689 Round =   0, Score = 0.04532\n",
      " 43 lambda = 0.0000000040, alpha = 0.0000000092, lambda_bias = 0.0001653532 Round =   0, Score = 0.04532\n",
      " 44 lambda = 0.0000000017, alpha = 0.0011304159, lambda_bias = 0.0000009758 Round =   1, Score = 0.55655\n",
      " 45 lambda = 0.0000000655, alpha = 0.0000000137, lambda_bias = 0.0000000100 Round =   0, Score = 0.04532\n",
      " 46 lambda = 0.0001594830, alpha = 0.0002342428, lambda_bias = 0.0000000817 Round =   0, Score = 0.04532\n",
      " 47 lambda = 0.0000020391, alpha = 0.0000037722, lambda_bias = 3.4066188827 Round =   0, Score = 0.04532\n",
      " 48 lambda = 0.0870101717, alpha = 0.0000000218, lambda_bias = 0.0000028972 Round =   6, Score = 0.57835\n",
      " 49 lambda = 0.0001327550, alpha = 0.0002979031, lambda_bias = 0.0000000057 Round =   1, Score = 0.55649\n",
      " 50 lambda = 0.0021867531, alpha = 1.2869041430, lambda_bias = 6.1917073610 Round =  97, Score = 0.61372\n",
      " 51 lambda = 0.0007000035, alpha = 0.8453594461, lambda_bias = 1.0239417878 Round =  94, Score = 0.57727\n",
      " 52 lambda = 0.0000002240, alpha = 0.0274291090, lambda_bias = 4.5916466201 Round =   0, Score = 0.04532\n",
      " 53 lambda = 0.0000003031, alpha = 0.0008151840, lambda_bias = 0.0000000136 Round =   0, Score = 0.04532\n",
      " 54 lambda = 0.0000068301, alpha = 1.5085784450, lambda_bias = 0.0000000011 Round =  99, Score = 0.61285\n",
      " 55 lambda = 0.0000007577, alpha = 2.5502113660, lambda_bias = 0.0000000118 Round =  99, Score = 0.60509\n",
      " 56 lambda = 0.0000000023, alpha = 4.4005606434, lambda_bias = 0.0000000849 Round =  88, Score = 0.59269\n",
      " 57 lambda = 0.0044565157, alpha = 0.0000764976, lambda_bias = 0.0002016519 Round =   0, Score = 0.04532\n",
      " 58 lambda = 0.0115453510, alpha = 0.0000000312, lambda_bias = 0.5154998504 Round =   5, Score = 0.54953\n",
      " 59 lambda = 0.0000030984, alpha = 0.5273227036, lambda_bias = 0.6621997254 Round =   6, Score = 0.60137\n",
      " 60 lambda = 0.0077829364, alpha = 0.0001948039, lambda_bias = 2.2645568243 Round =   0, Score = 0.04532\n",
      " 61 lambda = 0.0003544304, alpha = 0.3675223061, lambda_bias = 0.0000001318 Round =  14, Score = 0.56119\n",
      " 62 lambda = 0.0004655200, alpha = 0.0000024742, lambda_bias = 0.0000009177 Round =   0, Score = 0.04532\n",
      " 63 lambda = 0.0000010011, alpha = 0.0000000484, lambda_bias = 0.0902632527 Round =   0, Score = 0.04532\n",
      " 64 lambda = 0.0041091988, alpha = 0.0000435395, lambda_bias = 0.0000273235 Round =   3, Score = 0.54206\n",
      " 65 lambda = 0.0002542281, alpha = 0.0005985111, lambda_bias = 0.0001201030 Round =   0, Score = 0.04532\n",
      " 66 lambda = 0.0002640692, alpha = 4.4293733018, lambda_bias = 0.0000877051 Round =  85, Score = 0.59259\n",
      " 67 lambda = 0.0000001144, alpha = 0.0000000502, lambda_bias = 0.1304188710 Round =   0, Score = 0.04532\n",
      " 68 lambda = 0.0096258314, alpha = 0.0007115379, lambda_bias = 0.0420868983 Round =   0, Score = 0.04532\n",
      " 69 lambda = 0.0429812580, alpha = 4.0385711859, lambda_bias = 0.0000000231 Round =  99, Score = 0.59446\n",
      " 70 lambda = 0.0109356859, alpha = 0.2833044545, lambda_bias = 0.0000000043 Round =  12, Score = 0.59550\n",
      " 71 lambda = 0.0000034765, alpha = 0.0000020560, lambda_bias = 0.0000000015 Round =   0, Score = 0.04532\n",
      " 72 lambda = 0.0259708159, alpha = 0.4423094229, lambda_bias = 0.0590284967 Round =  52, Score = 0.59714\n",
      " 73 lambda = 0.0000450409, alpha = 0.0000000073, lambda_bias = 0.0000000960 Round =   0, Score = 0.04532\n",
      " 74 lambda = 0.0000018581, alpha = 9.7089309139, lambda_bias = 0.0000000474 Round =  60, Score = 0.56915\n",
      " 75 lambda = 0.0001974516, alpha = 6.4347562462, lambda_bias = 0.0120109560 Round =  61, Score = 0.58250\n",
      " 76 lambda = 0.0007777005, alpha = 0.0000015826, lambda_bias = 2.6474023256 Round =   0, Score = 0.04532\n",
      " 77 lambda = 0.0000904433, alpha = 0.0215042911, lambda_bias = 0.0000000118 Round =   2, Score = 0.52945\n",
      " 78 lambda = 0.0000002534, alpha = 0.0000000022, lambda_bias = 0.0006604493 Round =   0, Score = 0.04532\n"
     ]
    },
    {
     "name": "stdout",
     "output_type": "stream",
     "text": [
      " 79 lambda = 0.0000002151, alpha = 0.0000000031, lambda_bias = 0.0000001391 Round =   0, Score = 0.04532\n",
      " 80 lambda = 0.0000085831, alpha = 0.0001945728, lambda_bias = 0.1422965074 Round =   0, Score = 0.04532\n",
      " 81 lambda = 0.0000017865, alpha = 0.0000891645, lambda_bias = 0.0000000016 Round =   0, Score = 0.04532\n",
      " 82 lambda = 0.0000079904, alpha = 0.0993125854, lambda_bias = 3.5133508336 Round =   0, Score = 0.04532\n",
      " 83 lambda = 0.0000000011, alpha = 0.0000000037, lambda_bias = 0.0000000830 Round =   0, Score = 0.04532\n",
      " 84 lambda = 0.0000457808, alpha = 0.0000046546, lambda_bias = 0.0041297433 Round =   0, Score = 0.04532\n",
      " 85 lambda = 0.0002500314, alpha = 0.0550516579, lambda_bias = 0.0015108700 Round =   0, Score = 0.04532\n",
      " 86 lambda = 0.0000001106, alpha = 0.0000000013, lambda_bias = 0.0000001832 Round =   0, Score = 0.04532\n",
      " 87 lambda = 0.0000007404, alpha = 0.0198109678, lambda_bias = 0.0115270332 Round =   0, Score = 0.04532\n",
      " 88 lambda = 0.0000403355, alpha = 0.0000041366, lambda_bias = 0.8129931324 Round =   0, Score = 0.04532\n",
      " 89 lambda = 0.0000210433, alpha = 0.0000000995, lambda_bias = 0.0000000330 Round =   0, Score = 0.04532\n",
      " 90 lambda = 0.0000000765, alpha = 6.7134921498, lambda_bias = 0.0000020913 Round =  58, Score = 0.58126\n",
      " 91 lambda = 0.0192187884, alpha = 0.0000009686, lambda_bias = 0.0000000321 Round =   6, Score = 0.55258\n",
      " 92 lambda = 0.0000000019, alpha = 0.0025396769, lambda_bias = 0.0000034296 Round =   0, Score = 0.04532\n",
      " 93 lambda = 0.0000000125, alpha = 0.0001575662, lambda_bias = 0.0000000180 Round =   0, Score = 0.04532\n",
      " 94 lambda = 0.0000000240, alpha = 0.0000000982, lambda_bias = 0.0000004430 Round =   0, Score = 0.04532\n",
      " 95 lambda = 0.0000023000, alpha = 0.0099605531, lambda_bias = 0.0000000052 Round =   0, Score = 0.04532\n",
      " 96 lambda = 0.0000215160, alpha = 0.0000012943, lambda_bias = 0.7155641105 Round =   0, Score = 0.04532\n",
      " 97 lambda = 0.0000007299, alpha = 0.0000000012, lambda_bias = 0.0000000054 Round =   0, Score = 0.04532\n",
      " 98 lambda = 0.0000053662, alpha = 0.3705613801, lambda_bias = 0.7412304903 Round =   5, Score = 0.56826\n",
      " 99 lambda = 0.0176070158, alpha = 2.4872042499, lambda_bias = 0.0336472670 Round =  92, Score = 0.60510\n"
     ]
    },
    {
     "data": {
      "text/html": [
       "<div>\n",
       "<style>\n",
       "    .dataframe thead tr:only-child th {\n",
       "        text-align: right;\n",
       "    }\n",
       "\n",
       "    .dataframe thead th {\n",
       "        text-align: left;\n",
       "    }\n",
       "\n",
       "    .dataframe tbody tr th {\n",
       "        vertical-align: top;\n",
       "    }\n",
       "</style>\n",
       "<table border=\"1\" class=\"dataframe\">\n",
       "  <thead>\n",
       "    <tr style=\"text-align: right;\">\n",
       "      <th></th>\n",
       "      <th>alpha</th>\n",
       "      <th>epoch</th>\n",
       "      <th>lambda_</th>\n",
       "      <th>lambda_bias</th>\n",
       "      <th>num_best_round</th>\n",
       "      <th>score</th>\n",
       "    </tr>\n",
       "  </thead>\n",
       "  <tbody>\n",
       "    <tr>\n",
       "      <th>50</th>\n",
       "      <td>1.286904</td>\n",
       "      <td>50</td>\n",
       "      <td>2.186753e-03</td>\n",
       "      <td>6.191707e+00</td>\n",
       "      <td>97</td>\n",
       "      <td>0.613719</td>\n",
       "    </tr>\n",
       "    <tr>\n",
       "      <th>54</th>\n",
       "      <td>1.508578</td>\n",
       "      <td>54</td>\n",
       "      <td>6.830100e-06</td>\n",
       "      <td>1.064760e-09</td>\n",
       "      <td>99</td>\n",
       "      <td>0.612854</td>\n",
       "    </tr>\n",
       "    <tr>\n",
       "      <th>34</th>\n",
       "      <td>2.236949</td>\n",
       "      <td>34</td>\n",
       "      <td>7.562489e-04</td>\n",
       "      <td>1.775987e+00</td>\n",
       "      <td>85</td>\n",
       "      <td>0.607350</td>\n",
       "    </tr>\n",
       "    <tr>\n",
       "      <th>99</th>\n",
       "      <td>2.487204</td>\n",
       "      <td>99</td>\n",
       "      <td>1.760702e-02</td>\n",
       "      <td>3.364727e-02</td>\n",
       "      <td>92</td>\n",
       "      <td>0.605101</td>\n",
       "    </tr>\n",
       "    <tr>\n",
       "      <th>55</th>\n",
       "      <td>2.550211</td>\n",
       "      <td>55</td>\n",
       "      <td>7.576831e-07</td>\n",
       "      <td>1.179943e-08</td>\n",
       "      <td>99</td>\n",
       "      <td>0.605088</td>\n",
       "    </tr>\n",
       "  </tbody>\n",
       "</table>\n",
       "</div>"
      ],
      "text/plain": [
       "       alpha  epoch       lambda_   lambda_bias  num_best_round     score\n",
       "50  1.286904     50  2.186753e-03  6.191707e+00              97  0.613719\n",
       "54  1.508578     54  6.830100e-06  1.064760e-09              99  0.612854\n",
       "34  2.236949     34  7.562489e-04  1.775987e+00              85  0.607350\n",
       "99  2.487204     99  1.760702e-02  3.364727e-02              92  0.605101\n",
       "55  2.550211     55  7.576831e-07  1.179943e-08              99  0.605088"
      ]
     },
     "execution_count": 93,
     "metadata": {},
     "output_type": "execute_result"
    }
   ],
   "source": [
    "import xgboost as xgb\n",
    "import random\n",
    "import numpy as np\n",
    "from sklearn.linear_model import SGDClassifier\n",
    "from sklearn.model_selection import cross_val_score, GroupKFold\n",
    "from sklearn.metrics import accuracy_score\n",
    "\n",
    "seed = 37\n",
    "\n",
    "num_epoch = 100\n",
    "\n",
    "hyperparameters_list = []\n",
    "\n",
    "X_train = X_train.tocsr()\n",
    "X_test = X_test.tocsr()\n",
    "\n",
    "for epoch in range(num_epoch):\n",
    "    np.random.seed(epoch)\n",
    "\n",
    "    num_round = 100\n",
    "    \n",
    "    np.random.seed(epoch * 10 + 1)\n",
    "    lambda_ = 10 ** np.random.uniform(-1, -9)\n",
    "\n",
    "    np.random.seed(epoch * 10 + 2)\n",
    "    alpha = 10 ** np.random.uniform(1, -9)\n",
    "\n",
    "    np.random.seed(epoch * 10 + 3)\n",
    "    lambda_bias = 10 ** np.random.uniform(1, -9)\n",
    "    \n",
    "    np.random.seed(None)\n",
    "\n",
    "    params = {\n",
    "        'booster': 'gblinear',\n",
    "        'objective': 'multi:softmax',\n",
    "        'eval_metric': 'merror',\n",
    "        'lambda': lambda_,\n",
    "        'alpha': alpha,\n",
    "        'lambda_bias': lambda_bias,\n",
    "        'num_class': 5,\n",
    "        'nthread': 8,\n",
    "        'silent': 1,\n",
    "    }\n",
    "\n",
    "    dtrain = xgb.DMatrix(X_train, label=y_train)\n",
    "    \n",
    "    result = xgb.cv(params, dtrain, num_round, nfold=5, metrics={'merror'})\n",
    "    num_best_round = result[\"test-merror-mean\"].argmin()\n",
    "\n",
    "    kfold = GroupKFold(n_splits=5)\n",
    "    \n",
    "    scores = []\n",
    "\n",
    "    for train_index, test_index in kfold.split(X_train, y_train, groups=sentence_ids):\n",
    "        X_train_kf, X_test_kf = X_train[train_index], X_train[test_index]\n",
    "        y_train_kf, y_test_kf = y_train[train_index], y_train[test_index]\n",
    "        \n",
    "        dtrain = xgb.DMatrix(X_train_kf, label=y_train_kf)\n",
    "\n",
    "        booster = xgb.train(params, dtrain, num_boost_round=num_best_round)\n",
    "\n",
    "        dtest = xgb.DMatrix(X_test_kf.toarray(), label=y_test_kf)\n",
    "\n",
    "        predictions = booster.predict(dtest)\n",
    "        \n",
    "        score = accuracy_score(y_test_kf, predictions)\n",
    "        \n",
    "        scores.append(score)\n",
    "\n",
    "    score = np.array(scores).mean()\n",
    "\n",
    "    print(\"{0:3} lambda = {1:.10f}, alpha = {2:.10f}, lambda_bias = {3:.10f} Round = {4:3}, Score = {5:.5f}\".format(epoch, lambda_, alpha, lambda_bias, num_best_round, score))\n",
    "\n",
    "    hyperparameters_list.append({\n",
    "        'epoch': epoch,\n",
    "        'lambda_': lambda_,\n",
    "        'alpha': alpha,\n",
    "        'lambda_bias': lambda_bias,\n",
    "        'num_best_round': num_best_round,\n",
    "        'alpha': alpha,\n",
    "        'score': score,\n",
    "    })\n",
    "\n",
    "hyperparameters_list = pd.DataFrame.from_dict(hyperparameters_list)\n",
    "hyperparameters_list = hyperparameters_list.sort_values(by=\"score\", ascending=False)\n",
    "\n",
    "hyperparameters_list.head()"
   ]
  },
  {
   "cell_type": "markdown",
   "metadata": {},
   "source": [
    "* default: 0.59613"
   ]
  },
  {
   "cell_type": "markdown",
   "metadata": {},
   "source": [
    "## Predict"
   ]
  },
  {
   "cell_type": "code",
   "execution_count": 95,
   "metadata": {
    "collapsed": true
   },
   "outputs": [],
   "source": [
    "dtrain = xgb.DMatrix(X_train, label=y_train)\n",
    "\n",
    "params = {\n",
    "    'booster': 'gblinear',\n",
    "    'objective': 'multi:softmax',\n",
    "    'eval_metric': 'merror',\n",
    "    'lambda': 2.186753e-03,\n",
    "    'alpha': 1.286904,\n",
    "    'lambda_bias': 6.191707e+00,\n",
    "    'num_class': 5,\n",
    "    'nthread': 8,\n",
    "    'silent': 1,\n",
    "}\n",
    "\n",
    "booster = xgb.train(params, dtrain, num_boost_round=98)"
   ]
  },
  {
   "cell_type": "code",
   "execution_count": 98,
   "metadata": {},
   "outputs": [
    {
     "name": "stdout",
     "output_type": "stream",
     "text": [
      "(66292,)\n"
     ]
    },
    {
     "data": {
      "text/plain": [
       "array([ 3.,  3.,  2.,  3.,  3.,  3.,  3.,  2.,  3.,  2.], dtype=float32)"
      ]
     },
     "execution_count": 98,
     "metadata": {},
     "output_type": "execute_result"
    }
   ],
   "source": [
    "dtest = xgb.DMatrix(X_test.toarray())\n",
    "\n",
    "predictions = booster.predict(dtest)\n",
    "\n",
    "print(predictions.shape)\n",
    "predictions[0:10]"
   ]
  },
  {
   "cell_type": "markdown",
   "metadata": {},
   "source": [
    "## Submit"
   ]
  },
  {
   "cell_type": "code",
   "execution_count": 101,
   "metadata": {},
   "outputs": [
    {
     "name": "stdout",
     "output_type": "stream",
     "text": [
      "(66292, 1)\n"
     ]
    },
    {
     "data": {
      "text/html": [
       "<div>\n",
       "<style>\n",
       "    .dataframe thead tr:only-child th {\n",
       "        text-align: right;\n",
       "    }\n",
       "\n",
       "    .dataframe thead th {\n",
       "        text-align: left;\n",
       "    }\n",
       "\n",
       "    .dataframe tbody tr th {\n",
       "        vertical-align: top;\n",
       "    }\n",
       "</style>\n",
       "<table border=\"1\" class=\"dataframe\">\n",
       "  <thead>\n",
       "    <tr style=\"text-align: right;\">\n",
       "      <th></th>\n",
       "      <th>Sentiment</th>\n",
       "    </tr>\n",
       "    <tr>\n",
       "      <th>PhraseId</th>\n",
       "      <th></th>\n",
       "    </tr>\n",
       "  </thead>\n",
       "  <tbody>\n",
       "    <tr>\n",
       "      <th>156061</th>\n",
       "      <td>3</td>\n",
       "    </tr>\n",
       "    <tr>\n",
       "      <th>156062</th>\n",
       "      <td>3</td>\n",
       "    </tr>\n",
       "    <tr>\n",
       "      <th>156063</th>\n",
       "      <td>2</td>\n",
       "    </tr>\n",
       "    <tr>\n",
       "      <th>156064</th>\n",
       "      <td>3</td>\n",
       "    </tr>\n",
       "    <tr>\n",
       "      <th>156065</th>\n",
       "      <td>3</td>\n",
       "    </tr>\n",
       "  </tbody>\n",
       "</table>\n",
       "</div>"
      ],
      "text/plain": [
       "          Sentiment\n",
       "PhraseId           \n",
       "156061            3\n",
       "156062            3\n",
       "156063            2\n",
       "156064            3\n",
       "156065            3"
      ]
     },
     "execution_count": 101,
     "metadata": {},
     "output_type": "execute_result"
    }
   ],
   "source": [
    "submission = pd.read_csv(\"../data/sampleSubmission.csv\", index_col=\"PhraseId\")\n",
    "\n",
    "submission[\"Sentiment\"] = predictions.astype('int')\n",
    "\n",
    "print(submission.shape)\n",
    "submission.head()"
   ]
  },
  {
   "cell_type": "code",
   "execution_count": 102,
   "metadata": {
    "collapsed": true
   },
   "outputs": [],
   "source": [
    "submission.to_csv(\"../submissions/10-use-xgboost.csv\")"
   ]
  },
  {
   "cell_type": "code",
   "execution_count": null,
   "metadata": {
    "collapsed": true
   },
   "outputs": [],
   "source": []
  },
  {
   "cell_type": "code",
   "execution_count": null,
   "metadata": {
    "collapsed": true
   },
   "outputs": [],
   "source": []
  }
 ],
 "metadata": {
  "kernelspec": {
   "display_name": "Python 3",
   "language": "python",
   "name": "python3"
  },
  "language_info": {
   "codemirror_mode": {
    "name": "ipython",
    "version": 3
   },
   "file_extension": ".py",
   "mimetype": "text/x-python",
   "name": "python",
   "nbconvert_exporter": "python",
   "pygments_lexer": "ipython3",
   "version": "3.5.2"
  }
 },
 "nbformat": 4,
 "nbformat_minor": 2
}
