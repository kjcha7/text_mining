{
 "cells": [
  {
   "cell_type": "code",
   "execution_count": 1,
   "metadata": {},
   "outputs": [],
   "source": [
    "# -*- coding: utf-8 -*-\n",
    "# 코드 내부에 한글을 사용가능 하게 해주는 부분입니다."
   ]
  },
  {
   "cell_type": "code",
   "execution_count": 2,
   "metadata": {},
   "outputs": [
    {
     "name": "stderr",
     "output_type": "stream",
     "text": [
      "/usr/local/lib/python3.5/dist-packages/h5py/__init__.py:36: FutureWarning: Conversion of the second argument of issubdtype from `float` to `np.floating` is deprecated. In future, it will be treated as `np.float64 == np.dtype(float).type`.\n",
      "  from ._conv import register_converters as _register_converters\n",
      "Using TensorFlow backend.\n"
     ]
    }
   ],
   "source": [
    "# 로이터 뉴스 데이터셋 불러오기\n",
    "from keras.datasets import reuters\n",
    "from keras.models import Sequential"
   ]
  },
  {
   "cell_type": "code",
   "execution_count": 3,
   "metadata": {},
   "outputs": [],
   "source": [
    "from keras.layers import Dense, LSTM, Embedding\n",
    "from keras.preprocessing import sequence\n",
    "from keras.utils import np_utils"
   ]
  },
  {
   "cell_type": "code",
   "execution_count": 4,
   "metadata": {},
   "outputs": [],
   "source": [
    "import numpy\n",
    "import tensorflow as tf\n",
    "import matplotlib.pyplot as plt\n",
    "\n",
    "# seed 값 설정\n",
    "seed = 0\n",
    "numpy.random.seed(seed)\n",
    "tf.set_random_seed(seed)\n",
    "\n",
    "# 불러온 데이터를 학습셋, 테스트셋으로 나누기\n",
    "(X_train, Y_train), (X_test, Y_test) = reuters.load_data(num_words=1000, test_split=0.2)\n",
    "#기사안의 단어 중 거의 사용되지 않는것들도 있음. 모든단어를 다 사용하는것은 비효율적. 빈도가 높은 단어만 불러와 사용\n",
    "#빈도가 1~1000에 해당하는 단어만 선택해서 불러오는것. "
   ]
  },
  {
   "cell_type": "code",
   "execution_count": 5,
   "metadata": {},
   "outputs": [
    {
     "name": "stdout",
     "output_type": "stream",
     "text": [
      "46 카테고리\n",
      "8982 학습용 뉴스 기사\n",
      "2246 테스트용 뉴스 기사\n",
      "[1, 2, 2, 8, 43, 10, 447, 5, 25, 207, 270, 5, 2, 111, 16, 369, 186, 90, 67, 7, 89, 5, 19, 102, 6, 19, 124, 15, 90, 67, 84, 22, 482, 26, 7, 48, 4, 49, 8, 864, 39, 209, 154, 6, 151, 6, 83, 11, 15, 22, 155, 11, 15, 7, 48, 9, 2, 2, 504, 6, 258, 6, 272, 11, 15, 22, 134, 44, 11, 15, 16, 8, 197, 2, 90, 67, 52, 29, 209, 30, 32, 132, 6, 109, 15, 17, 12]\n"
     ]
    }
   ],
   "source": [
    "# 데이터 확인하기\n",
    "category = numpy.max(Y_train) + 1\n",
    "print(category, '카테고리')\n",
    "print(len(X_train), '학습용 뉴스 기사')\n",
    "print(len(X_test), '테스트용 뉴스 기사')\n",
    "print(X_train[0])\n",
    "\n",
    "#딥러닝은 단어를 그대로 사용하지 않고, 숫자로 변환한 다음 학습할 수 있음\n",
    "#데이터안에서 해당단어가 몇번이나 나타나는지 세어 빈도에 따라 번호를 붙인것임\n",
    "#예를들어 3이라고 하면 3번째로 빈도가 높은 단어라는 뜻. \n",
    "#이작업을 tokenizer()같은 함수를 사용 - 케라스는 이미 이 작업을 마친 데이터임. \n"
   ]
  },
  {
   "cell_type": "code",
   "execution_count": 6,
   "metadata": {},
   "outputs": [],
   "source": [
    "# 데이터 전처리\n",
    "x_train = sequence.pad_sequences(X_train, maxlen=100)\n",
    "x_test = sequence.pad_sequences(X_test, maxlen=100)\n",
    "y_train = np_utils.to_categorical(Y_train)\n",
    "y_test = np_utils.to_categorical(Y_test)\n",
    "\n",
    "#각 기사의 단어의 수가 각각 다르므로 단어의 숫자를 맞춰야함. \n",
    "#전처리 함수 sequence\n",
    "#입력된 기사의 단어수가 100보다 크면 100개째 단어만 선택하고 나머지는 버림\n",
    "#모자랄때는?\n",
    "\n",
    "#이제 y 데이터에 원-핫 인코딩 처리를 하여 데이터 전처리 과정을 마침\n"
   ]
  },
  {
   "cell_type": "code",
   "execution_count": 7,
   "metadata": {},
   "outputs": [],
   "source": [
    "# 모델의 설정\n",
    "#딥러닝의 구조\n",
    "# Embedding('불러온 단어의 총 개수', '기사당 단어 수') 형식으로 사용하며, 모델 설정 부분의 맨 처음에 있어야 함\n",
    "\n",
    "model = Sequential()\n",
    "model.add(Embedding(1000, 100))\n",
    "model.add(LSTM(100, activation='tanh'))\n",
    "model.add(Dense(46, activation='softmax'))"
   ]
  },
  {
   "cell_type": "code",
   "execution_count": 7,
   "metadata": {},
   "outputs": [],
   "source": [
    "# 모델의 컴파일\n",
    "model.compile(loss='categorical_crossentropy',\n",
    "            optimizer='adam',\n",
    "            metrics=['accuracy'])"
   ]
  },
  {
   "cell_type": "code",
   "execution_count": 8,
   "metadata": {},
   "outputs": [
    {
     "name": "stdout",
     "output_type": "stream",
     "text": [
      "Train on 8982 samples, validate on 2246 samples\n",
      "Epoch 1/20\n",
      "8982/8982 [==============================] - 9s 1ms/step - loss: 2.6147 - acc: 0.3442 - val_loss: 2.4222 - val_acc: 0.3620\n",
      "Epoch 2/20\n",
      "8982/8982 [==============================] - 9s 960us/step - loss: 2.3039 - acc: 0.3901 - val_loss: 2.0312 - val_acc: 0.5049\n",
      "Epoch 3/20\n",
      "8982/8982 [==============================] - 9s 971us/step - loss: 1.9079 - acc: 0.5145 - val_loss: 1.7706 - val_acc: 0.5512\n",
      "Epoch 4/20\n",
      "8982/8982 [==============================] - 9s 955us/step - loss: 1.7391 - acc: 0.5513 - val_loss: 1.7208 - val_acc: 0.5583\n",
      "Epoch 5/20\n",
      "8982/8982 [==============================] - 8s 928us/step - loss: 1.6366 - acc: 0.5825 - val_loss: 1.6616 - val_acc: 0.5993\n",
      "Epoch 6/20\n",
      "8982/8982 [==============================] - 8s 930us/step - loss: 1.5161 - acc: 0.6187 - val_loss: 1.6444 - val_acc: 0.5793\n",
      "Epoch 7/20\n",
      "8982/8982 [==============================] - 8s 946us/step - loss: 1.4520 - acc: 0.6277 - val_loss: 1.5004 - val_acc: 0.6273\n",
      "Epoch 8/20\n",
      "8982/8982 [==============================] - 9s 954us/step - loss: 1.3766 - acc: 0.6450 - val_loss: 1.4712 - val_acc: 0.6291\n",
      "Epoch 9/20\n",
      "8982/8982 [==============================] - 9s 949us/step - loss: 1.3180 - acc: 0.6623 - val_loss: 1.4137 - val_acc: 0.6407\n",
      "Epoch 10/20\n",
      "8982/8982 [==============================] - 8s 935us/step - loss: 1.2661 - acc: 0.6719 - val_loss: 1.4001 - val_acc: 0.6376\n",
      "Epoch 11/20\n",
      "8982/8982 [==============================] - 8s 930us/step - loss: 1.1906 - acc: 0.6921 - val_loss: 1.3369 - val_acc: 0.6643\n",
      "Epoch 12/20\n",
      "8982/8982 [==============================] - 8s 932us/step - loss: 1.1183 - acc: 0.7089 - val_loss: 1.3307 - val_acc: 0.6661\n",
      "Epoch 13/20\n",
      "8982/8982 [==============================] - 8s 940us/step - loss: 1.0637 - acc: 0.7272 - val_loss: 1.3032 - val_acc: 0.6772\n",
      "Epoch 14/20\n",
      "8982/8982 [==============================] - 8s 942us/step - loss: 1.0194 - acc: 0.7352 - val_loss: 1.2592 - val_acc: 0.6803\n",
      "Epoch 15/20\n",
      "8982/8982 [==============================] - 8s 945us/step - loss: 0.9741 - acc: 0.7528 - val_loss: 1.2883 - val_acc: 0.6790\n",
      "Epoch 16/20\n",
      "8982/8982 [==============================] - 9s 949us/step - loss: 0.9376 - acc: 0.7635 - val_loss: 1.2444 - val_acc: 0.6923\n",
      "Epoch 17/20\n",
      "8982/8982 [==============================] - 8s 945us/step - loss: 0.8766 - acc: 0.7809 - val_loss: 1.2349 - val_acc: 0.6995\n",
      "Epoch 18/20\n",
      "8982/8982 [==============================] - 8s 934us/step - loss: 0.8408 - acc: 0.7860 - val_loss: 1.2279 - val_acc: 0.7048\n",
      "Epoch 19/20\n",
      "8982/8982 [==============================] - 8s 946us/step - loss: 0.8011 - acc: 0.7973 - val_loss: 1.2336 - val_acc: 0.7053\n",
      "Epoch 20/20\n",
      "8982/8982 [==============================] - 8s 931us/step - loss: 0.7601 - acc: 0.8088 - val_loss: 1.2283 - val_acc: 0.7115\n"
     ]
    }
   ],
   "source": [
    "# 모델의 실행\n",
    "history = model.fit(x_train, y_train, batch_size=100, epochs=20, validation_data=(x_test, y_test))"
   ]
  },
  {
   "cell_type": "code",
   "execution_count": 9,
   "metadata": {},
   "outputs": [
    {
     "name": "stdout",
     "output_type": "stream",
     "text": [
      "2246/2246 [==============================] - 1s 454us/step\n",
      "\n",
      " Test Accuracy: 0.7115\n"
     ]
    }
   ],
   "source": [
    "# 테스트 정확도 출력\n",
    "print(\"\\n Test Accuracy: %.4f\" % (model.evaluate(x_test, y_test)[1]))"
   ]
  },
  {
   "cell_type": "code",
   "execution_count": 10,
   "metadata": {},
   "outputs": [],
   "source": [
    "# 테스트 셋의 오차\n",
    "y_vloss = history.history['val_loss']\n",
    "\n",
    "# 학습셋의 오차\n",
    "y_loss = history.history['loss']"
   ]
  },
  {
   "cell_type": "code",
   "execution_count": 11,
   "metadata": {},
   "outputs": [
    {
     "data": {
      "image/png": "[encoded data removed]",
      "text/plain": [
       "<Figure size 432x288 with 1 Axes>"
      ]
     },
     "metadata": {},
     "output_type": "display_data"
    }
   ],
   "source": [
    "# 그래프로 표현\n",
    "x_len = numpy.arange(len(y_loss))\n",
    "plt.plot(x_len, y_vloss, marker='.', c=\"red\", label='Testset_loss')\n",
    "plt.plot(x_len, y_loss, marker='.', c=\"blue\", label='Trainset_loss')\n",
    "\n",
    "# 그래프에 그리드를 주고 레이블을 표시\n",
    "plt.legend(loc='upper right')\n",
    "plt.grid()\n",
    "plt.xlabel('epoch')\n",
    "plt.ylabel('loss')\n",
    "plt.show()"
   ]
  },
  {
   "cell_type": "code",
   "execution_count": null,
   "metadata": {},
   "outputs": [],
   "source": []
  }
 ],
 "metadata": {
  "kernelspec": {
   "display_name": "Python 3",
   "language": "python",
   "name": "python3"
  },
  "language_info": {
   "codemirror_mode": {
    "name": "ipython",
    "version": 3
   },
   "file_extension": ".py",
   "mimetype": "text/x-python",
   "name": "python",
   "nbconvert_exporter": "python",
   "pygments_lexer": "ipython3",
   "version": "3.5.2"
  }
 },
 "nbformat": 4,
 "nbformat_minor": 2
}
